{
 "cells": [
  {
   "cell_type": "markdown",
   "id": "1fab437e",
   "metadata": {},
   "source": [
    "#### 1. Does `emoji-country-flag` library work?"
   ]
  },
  {
   "cell_type": "code",
   "execution_count": null,
   "id": "2b98c23d",
   "metadata": {},
   "outputs": [
    {
     "name": "stdout",
     "output_type": "stream",
     "text": [
      "Collecting emoji-country-flag\n",
      "  Downloading emoji_country_flag-1.3.0-py2.py3-none-any.whl (8.0 kB)\n",
      "Installing collected packages: emoji-country-flag\n",
      "Successfully installed emoji-country-flag-1.3.0\n"
     ]
    }
   ],
   "source": [
    "!pip install emoji-country-flag"
   ]
  },
  {
   "cell_type": "code",
   "execution_count": null,
   "id": "757936c0",
   "metadata": {},
   "outputs": [
    {
     "data": {
      "text/plain": [
       "'🇮🇱'"
      ]
     },
     "execution_count": null,
     "metadata": {},
     "output_type": "execute_result"
    }
   ],
   "source": [
    "import flag\n",
    "flag.flag(\"IL\")"
   ]
  },
  {
   "cell_type": "code",
   "execution_count": null,
   "id": "632795aa",
   "metadata": {},
   "outputs": [
    {
     "data": {
      "text/plain": [
       "'🇳🇿'"
      ]
     },
     "execution_count": null,
     "metadata": {},
     "output_type": "execute_result"
    }
   ],
   "source": [
    "flag.flag(\"NZ\")"
   ]
  },
  {
   "cell_type": "markdown",
   "id": "39e3ad99",
   "metadata": {},
   "source": [
    "#### 2. How about just using a massive dictionary"
   ]
  },
  {
   "cell_type": "code",
   "execution_count": null,
   "id": "e621cf9e",
   "metadata": {},
   "outputs": [],
   "source": [
    "import pandas as pd"
   ]
  },
  {
   "cell_type": "code",
   "execution_count": null,
   "id": "3cec7da5",
   "metadata": {},
   "outputs": [
    {
     "data": {
      "text/html": [
       "<div>\n",
       "<style scoped>\n",
       "    .dataframe tbody tr th:only-of-type {\n",
       "        vertical-align: middle;\n",
       "    }\n",
       "\n",
       "    .dataframe tbody tr th {\n",
       "        vertical-align: top;\n",
       "    }\n",
       "\n",
       "    .dataframe thead th {\n",
       "        text-align: right;\n",
       "    }\n",
       "</style>\n",
       "<table border=\"1\" class=\"dataframe\">\n",
       "  <thead>\n",
       "    <tr style=\"text-align: right;\">\n",
       "      <th></th>\n",
       "      <th>icon</th>\n",
       "      <th>location</th>\n",
       "    </tr>\n",
       "  </thead>\n",
       "  <tbody>\n",
       "    <tr>\n",
       "      <th>0</th>\n",
       "      <td>🏴‍☠️</td>\n",
       "      <td>Pirate Flag</td>\n",
       "    </tr>\n",
       "    <tr>\n",
       "      <th>1</th>\n",
       "      <td>🇦🇨</td>\n",
       "      <td>Ascension Island</td>\n",
       "    </tr>\n",
       "    <tr>\n",
       "      <th>2</th>\n",
       "      <td>🇦🇩</td>\n",
       "      <td>Andorra</td>\n",
       "    </tr>\n",
       "    <tr>\n",
       "      <th>3</th>\n",
       "      <td>🇦🇪</td>\n",
       "      <td>United Arab Emirates</td>\n",
       "    </tr>\n",
       "    <tr>\n",
       "      <th>4</th>\n",
       "      <td>🇦🇫</td>\n",
       "      <td>Afghanistan</td>\n",
       "    </tr>\n",
       "  </tbody>\n",
       "</table>\n",
       "</div>"
      ],
      "text/plain": [
       "   icon              location\n",
       "0  🏴‍☠️           Pirate Flag\n",
       "1    🇦🇨      Ascension Island\n",
       "2    🇦🇩               Andorra\n",
       "3    🇦🇪  United Arab Emirates\n",
       "4    🇦🇫           Afghanistan"
      ]
     },
     "execution_count": null,
     "metadata": {},
     "output_type": "execute_result"
    }
   ],
   "source": [
    "df = pd.read_csv('../data/locations_global.csv')\n",
    "df.head()"
   ]
  },
  {
   "cell_type": "code",
   "execution_count": null,
   "id": "163ab36f",
   "metadata": {},
   "outputs": [],
   "source": []
  },
  {
   "cell_type": "code",
   "execution_count": null,
   "id": "c5f32b5d",
   "metadata": {},
   "outputs": [],
   "source": []
  },
  {
   "cell_type": "code",
   "execution_count": null,
   "id": "eaa1df82",
   "metadata": {},
   "outputs": [],
   "source": []
  }
 ],
 "metadata": {
  "kernelspec": {
   "display_name": "Python 3",
   "language": "python",
   "name": "python3"
  }
 },
 "nbformat": 4,
 "nbformat_minor": 5
}
