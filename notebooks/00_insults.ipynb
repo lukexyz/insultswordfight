{
 "cells": [
  {
   "cell_type": "code",
   "execution_count": 1,
   "metadata": {},
   "outputs": [],
   "source": [
    "# default_exp core"
   ]
  },
  {
   "cell_type": "markdown",
   "metadata": {},
   "source": [
    "# Few-shot Learning with GPT-J\n",
    "\n",
    "> API details."
   ]
  },
  {
   "cell_type": "code",
   "execution_count": 2,
   "metadata": {},
   "outputs": [],
   "source": [
    "#hide\n",
    "from nbdev.showdoc import *\n",
    "import pandas as pd"
   ]
  },
  {
   "cell_type": "code",
   "execution_count": 110,
   "metadata": {},
   "outputs": [],
   "source": [
    "import nlpcloud\n",
    "client = nlpcloud.Client(\"gpt-j\", \"d2fcc6841e6a127026c15ac84801d0ea0afee836\", gpu=False)"
   ]
  },
  {
   "cell_type": "code",
   "execution_count": 25,
   "metadata": {},
   "outputs": [
    {
     "name": "stdout",
     "output_type": "stream",
     "text": [
      " What do you want, his FAVORITE treat?\n",
      "\n"
     ]
    }
   ],
   "source": [
    "generation = client.generation(\"\"\"Insult: You fight like a dairy Farmer!\n",
    "            Comeback: How appropriate. You fight like a cow!\n",
    "            ###\n",
    "            Insult: This is the END for you, you gutter crawling cur!\n",
    "            Comeback: And I've got a little TIP for you, get the POINT?\n",
    "            ###\n",
    "            Insult: I've spoken with apes more polite than you!\n",
    "            Comeback: I'm glad to hear you attended your family reunion!\n",
    "            ###\n",
    "            Insult: Soon you'll be wearing my sword like a shish kebab!\n",
    "            Comeback: First you'd better stop waving it like a feather duster.\n",
    "            ###\n",
    "            Insult: I once owned a dog that was smarter than you.\n",
    "            Comeback: \"\"\",\n",
    "    max_length=100,\n",
    "    length_no_input=True,\n",
    "    end_sequence=\"\\n###\",\n",
    "    remove_input=True)\n",
    "print(generation[\"generated_text\"])"
   ]
  },
  {
   "cell_type": "markdown",
   "metadata": {},
   "source": [
    "## 📙 Insult Database\n",
    "From Monkey Island fandom wiki.  \n",
    "https://monkeyisland.fandom.com/wiki/Insult_Sword_Fighting"
   ]
  },
  {
   "cell_type": "code",
   "execution_count": 20,
   "metadata": {},
   "outputs": [
    {
     "data": {
      "text/html": [
       "<div>\n",
       "<style scoped>\n",
       "    .dataframe tbody tr th:only-of-type {\n",
       "        vertical-align: middle;\n",
       "    }\n",
       "\n",
       "    .dataframe tbody tr th {\n",
       "        vertical-align: top;\n",
       "    }\n",
       "\n",
       "    .dataframe thead th {\n",
       "        text-align: right;\n",
       "    }\n",
       "</style>\n",
       "<table border=\"1\" class=\"dataframe\">\n",
       "  <thead>\n",
       "    <tr style=\"text-align: right;\">\n",
       "      <th></th>\n",
       "      <th>Insult</th>\n",
       "      <th>Comeback</th>\n",
       "    </tr>\n",
       "  </thead>\n",
       "  <tbody>\n",
       "    <tr>\n",
       "      <th>0</th>\n",
       "      <td>You fight like a dairy Farmer!</td>\n",
       "      <td>How appropriate. You fight like a cow!</td>\n",
       "    </tr>\n",
       "    <tr>\n",
       "      <th>1</th>\n",
       "      <td>This is the END for you, you gutter crawling cur!</td>\n",
       "      <td>And I've got a little TIP for you, get the POINT?</td>\n",
       "    </tr>\n",
       "    <tr>\n",
       "      <th>2</th>\n",
       "      <td>I've spoken with apes more polite than you!</td>\n",
       "      <td>I'm glad to hear you attended your family reun...</td>\n",
       "    </tr>\n",
       "    <tr>\n",
       "      <th>3</th>\n",
       "      <td>Soon you'll be wearing my sword like a shish k...</td>\n",
       "      <td>First you'd better stop waving it like a feath...</td>\n",
       "    </tr>\n",
       "    <tr>\n",
       "      <th>4</th>\n",
       "      <td>People fall at my feet when they see me coming!</td>\n",
       "      <td>Even BEFORE they smell your breath?</td>\n",
       "    </tr>\n",
       "  </tbody>\n",
       "</table>\n",
       "</div>"
      ],
      "text/plain": [
       "                                              Insult  \\\n",
       "0                     You fight like a dairy Farmer!   \n",
       "1  This is the END for you, you gutter crawling cur!   \n",
       "2        I've spoken with apes more polite than you!   \n",
       "3  Soon you'll be wearing my sword like a shish k...   \n",
       "4    People fall at my feet when they see me coming!   \n",
       "\n",
       "                                            Comeback  \n",
       "0             How appropriate. You fight like a cow!  \n",
       "1  And I've got a little TIP for you, get the POINT?  \n",
       "2  I'm glad to hear you attended your family reun...  \n",
       "3  First you'd better stop waving it like a feath...  \n",
       "4                Even BEFORE they smell your breath?  "
      ]
     },
     "execution_count": 20,
     "metadata": {},
     "output_type": "execute_result"
    }
   ],
   "source": [
    "tb = pd.read_html(\"https://monkeyisland.fandom.com/wiki/Insult_Sword_Fighting\")\n",
    "pirate = tb[0]\n",
    "master = tb[1] \n",
    "\n",
    "df = pirate\n",
    "df.head()"
   ]
  },
  {
   "cell_type": "code",
   "execution_count": 67,
   "metadata": {},
   "outputs": [
    {
     "name": "stdout",
     "output_type": "stream",
     "text": [
      "Collecting rich\n",
      "  Downloading rich-10.13.0-py3-none-any.whl (213 kB)\n",
      "\u001b[K     |████████████████████████████████| 213 kB 3.6 MB/s eta 0:00:01\n",
      "\u001b[?25hCollecting commonmark<0.10.0,>=0.9.0\n",
      "  Downloading commonmark-0.9.1-py2.py3-none-any.whl (51 kB)\n",
      "\u001b[K     |████████████████████████████████| 51 kB 7.8 MB/s  eta 0:00:01\n",
      "\u001b[?25hRequirement already satisfied: pygments<3.0.0,>=2.6.0 in /home/lukew/anaconda3/envs/swordfight/lib/python3.9/site-packages (from rich) (2.10.0)\n",
      "Requirement already satisfied: colorama<0.5.0,>=0.4.0 in /home/lukew/anaconda3/envs/swordfight/lib/python3.9/site-packages (from rich) (0.4.4)\n",
      "Installing collected packages: commonmark, rich\n",
      "Successfully installed commonmark-0.9.1 rich-10.13.0\n"
     ]
    }
   ],
   "source": [
    "!pip install rich"
   ]
  },
  {
   "cell_type": "code",
   "execution_count": 105,
   "metadata": {},
   "outputs": [
    {
     "data": {
      "text/html": [
       "<pre style=\"white-space:pre;overflow-x:auto;line-height:normal;font-family:Menlo,'DejaVu Sans Mono',consolas,'Courier New',monospace\">##\n",
       "Insult: I got this scar on my face during a mighty struggle!\n",
       "Comeback: I hope now you've learned to stop picking your nose.\n",
       "###\n",
       "Insult: I've heard you are a contemptible sneak.\n",
       "Comeback: Too bad no one's ever heard of YOU at all.\n",
       "###\n",
       "Insult: You're no match for my brains, you poor fool.\n",
       "Comeback: <span style=\"font-weight: bold\">(</span><span style=\"color: #008080; text-decoration-color: #008080; font-weight: bold\">300</span>/<span style=\"color: #008080; text-decoration-color: #008080; font-weight: bold\">1591</span><span style=\"font-weight: bold\">)</span>\n",
       "</pre>\n"
      ],
      "text/plain": [
       "##\n",
       "Insult: I got this scar on my face during a mighty struggle!\n",
       "Comeback: I hope now you've learned to stop picking your nose.\n",
       "###\n",
       "Insult: I've heard you are a contemptible sneak.\n",
       "Comeback: Too bad no one's ever heard of YOU at all.\n",
       "###\n",
       "Insult: You're no match for my brains, you poor fool.\n",
       "Comeback: \u001b[1m(\u001b[0m\u001b[1;36m300\u001b[0m/\u001b[1;36m1591\u001b[0m\u001b[1m)\u001b[0m\n"
      ]
     },
     "metadata": {},
     "output_type": "display_data"
    }
   ],
   "source": [
    "examples = 14\n",
    "t = ''.join(f\"\"\"Insult: {df.Insult[i]}\\nComeback: {df.Comeback[i]}\\n###\\n\"\"\" for i in range(examples))\n",
    "\n",
    "# ================================================================== # \n",
    "insult = \"You're no match for my brains, you poor fool.\"\n",
    "# ================================================================== # \n",
    "\n",
    "t = f\"{t}Insult: {insult}\\nComeback:\"\n",
    "print(t[-300:], f'(300/{len(t)})')"
   ]
  },
  {
   "cell_type": "code",
   "execution_count": 106,
   "metadata": {},
   "outputs": [
    {
     "data": {
      "text/html": [
       "<pre style=\"white-space:pre;overflow-x:auto;line-height:normal;font-family:Menlo,'DejaVu Sans Mono',consolas,'Courier New',monospace\">Insult: You're no match for my brains, you poor fool.\n",
       "</pre>\n"
      ],
      "text/plain": [
       "Insult: You're no match for my brains, you poor fool.\n"
      ]
     },
     "metadata": {},
     "output_type": "display_data"
    },
    {
     "data": {
      "text/html": [
       "<pre style=\"white-space:pre;overflow-x:auto;line-height:normal;font-family:Menlo,'DejaVu Sans Mono',consolas,'Courier New',monospace\">Comeback: <span style=\"font-weight: bold\">(</span><span style=\"color: #008080; text-decoration-color: #008080; font-weight: bold\">0</span><span style=\"font-weight: bold\">)</span>  What a shame your poor little IQ is so low.\n",
       "</pre>\n"
      ],
      "text/plain": [
       "Comeback: \u001b[1m(\u001b[0m\u001b[1;36m0\u001b[0m\u001b[1m)\u001b[0m  What a shame your poor little IQ is so low.\n"
      ]
     },
     "metadata": {},
     "output_type": "display_data"
    },
    {
     "data": {
      "text/html": [
       "<pre style=\"white-space:pre;overflow-x:auto;line-height:normal;font-family:Menlo,'DejaVu Sans Mono',consolas,'Courier New',monospace\">Comeback: <span style=\"font-weight: bold\">(</span><span style=\"color: #008080; text-decoration-color: #008080; font-weight: bold\">1</span><span style=\"font-weight: bold\">)</span>  Yeah, but your head is the size of a truck.\n",
       "</pre>\n"
      ],
      "text/plain": [
       "Comeback: \u001b[1m(\u001b[0m\u001b[1;36m1\u001b[0m\u001b[1m)\u001b[0m  Yeah, but your head is the size of a truck.\n"
      ]
     },
     "metadata": {},
     "output_type": "display_data"
    }
   ],
   "source": [
    "print(f'Insult: {insult}')\n",
    "\n",
    "for i in range(2):\n",
    "    generation = client.generation(t,\n",
    "        max_length=100,\n",
    "        length_no_input=True,\n",
    "        end_sequence=\"\\n###\",\n",
    "        remove_input=True)\n",
    "    comeback = generation[\"generated_text\"].strip('\\n')\n",
    "    print(f\"Comeback: ({i}) {comeback}\")"
   ]
  },
  {
   "cell_type": "code",
   "execution_count": 107,
   "metadata": {},
   "outputs": [
    {
     "data": {
      "text/html": [
       "<pre style=\"white-space:pre;overflow-x:auto;line-height:normal;font-family:Menlo,'DejaVu Sans Mono',consolas,'Courier New',monospace\">after all.\n",
       "###\n",
       "Insult: I got this scar on my face during a mighty struggle!\n",
       "Comeback: I hope now you've learned to stop picking your nose.\n",
       "###\n",
       "Insult: I've heard you are a contemptible sneak.\n",
       "Comeback: Too bad no one's ever heard of YOU at all.\n",
       "###\n",
       "Insult: You have the manners of a beggar.\n",
       "Comeback: <span style=\"font-weight: bold\">(</span><span style=\"color: #008080; text-decoration-color: #008080; font-weight: bold\">300</span>/<span style=\"color: #008080; text-decoration-color: #008080; font-weight: bold\">1579</span><span style=\"font-weight: bold\">)</span>\n",
       "</pre>\n"
      ],
      "text/plain": [
       "after all.\n",
       "###\n",
       "Insult: I got this scar on my face during a mighty struggle!\n",
       "Comeback: I hope now you've learned to stop picking your nose.\n",
       "###\n",
       "Insult: I've heard you are a contemptible sneak.\n",
       "Comeback: Too bad no one's ever heard of YOU at all.\n",
       "###\n",
       "Insult: You have the manners of a beggar.\n",
       "Comeback: \u001b[1m(\u001b[0m\u001b[1;36m300\u001b[0m/\u001b[1;36m1579\u001b[0m\u001b[1m)\u001b[0m\n"
      ]
     },
     "metadata": {},
     "output_type": "display_data"
    }
   ],
   "source": [
    "examples = 14\n",
    "t = ''.join(f\"\"\"Insult: {df.Insult[i]}\\nComeback: {df.Comeback[i]}\\n###\\n\"\"\" for i in range(examples))\n",
    "\n",
    "# ================================================================== # \n",
    "insult = \"You have the manners of a beggar.\"\n",
    "# ================================================================== # \n",
    "\n",
    "t = f\"{t}Insult: {insult}\\nComeback:\"\n",
    "print(t[-300:], f'(300/{len(t)})')"
   ]
  },
  {
   "cell_type": "code",
   "execution_count": 111,
   "metadata": {},
   "outputs": [
    {
     "data": {
      "text/html": [
       "<pre style=\"white-space:pre;overflow-x:auto;line-height:normal;font-family:Menlo,'DejaVu Sans Mono',consolas,'Courier New',monospace\">Insult: You have the manners of a beggar.\n",
       "</pre>\n"
      ],
      "text/plain": [
       "Insult: You have the manners of a beggar.\n"
      ]
     },
     "metadata": {},
     "output_type": "display_data"
    },
    {
     "data": {
      "text/html": [
       "<pre style=\"white-space:pre;overflow-x:auto;line-height:normal;font-family:Menlo,'DejaVu Sans Mono',consolas,'Courier New',monospace\">Comeback: <span style=\"font-weight: bold\">(</span><span style=\"color: #008080; text-decoration-color: #008080; font-weight: bold\">0</span><span style=\"font-weight: bold\">)</span>  Is that why you always hang around beggars?\n",
       "</pre>\n"
      ],
      "text/plain": [
       "Comeback: \u001b[1m(\u001b[0m\u001b[1;36m0\u001b[0m\u001b[1m)\u001b[0m  Is that why you always hang around beggars?\n"
      ]
     },
     "metadata": {},
     "output_type": "display_data"
    },
    {
     "data": {
      "text/html": [
       "<pre style=\"white-space:pre;overflow-x:auto;line-height:normal;font-family:Menlo,'DejaVu Sans Mono',consolas,'Courier New',monospace\">Comeback: <span style=\"font-weight: bold\">(</span><span style=\"color: #008080; text-decoration-color: #008080; font-weight: bold\">1</span><span style=\"font-weight: bold\">)</span>  A beggar with a CUNT!\n",
       "</pre>\n"
      ],
      "text/plain": [
       "Comeback: \u001b[1m(\u001b[0m\u001b[1;36m1\u001b[0m\u001b[1m)\u001b[0m  A beggar with a CUNT!\n"
      ]
     },
     "metadata": {},
     "output_type": "display_data"
    },
    {
     "data": {
      "text/html": [
       "<pre style=\"white-space:pre;overflow-x:auto;line-height:normal;font-family:Menlo,'DejaVu Sans Mono',consolas,'Courier New',monospace\">Comeback: <span style=\"font-weight: bold\">(</span><span style=\"color: #008080; text-decoration-color: #008080; font-weight: bold\">2</span><span style=\"font-weight: bold\">)</span>  No, I have the MIND of a beggar.\n",
       "</pre>\n"
      ],
      "text/plain": [
       "Comeback: \u001b[1m(\u001b[0m\u001b[1;36m2\u001b[0m\u001b[1m)\u001b[0m  No, I have the MIND of a beggar.\n"
      ]
     },
     "metadata": {},
     "output_type": "display_data"
    }
   ],
   "source": [
    "print(f'Insult: {insult}')\n",
    "\n",
    "for i in range(3):\n",
    "    generation = client.generation(t,\n",
    "        max_length=100,\n",
    "        length_no_input=True,\n",
    "        end_sequence=\"\\n###\",\n",
    "        remove_input=True)\n",
    "    comeback = generation[\"generated_text\"].strip('\\n')\n",
    "    print(f\"Comeback: ({i}) {comeback}\")"
   ]
  },
  {
   "cell_type": "code",
   "execution_count": null,
   "metadata": {},
   "outputs": [],
   "source": []
  },
  {
   "cell_type": "code",
   "execution_count": null,
   "metadata": {},
   "outputs": [],
   "source": []
  },
  {
   "cell_type": "code",
   "execution_count": null,
   "metadata": {},
   "outputs": [],
   "source": []
  },
  {
   "cell_type": "code",
   "execution_count": null,
   "metadata": {},
   "outputs": [],
   "source": []
  },
  {
   "cell_type": "code",
   "execution_count": null,
   "metadata": {},
   "outputs": [],
   "source": []
  },
  {
   "cell_type": "code",
   "execution_count": null,
   "metadata": {},
   "outputs": [],
   "source": []
  },
  {
   "cell_type": "code",
   "execution_count": null,
   "metadata": {},
   "outputs": [],
   "source": []
  }
 ],
 "metadata": {
  "kernelspec": {
   "display_name": "Python 3 (ipykernel)",
   "language": "python",
   "name": "python3"
  },
  "language_info": {
   "codemirror_mode": {
    "name": "ipython",
    "version": 3
   },
   "file_extension": ".py",
   "mimetype": "text/x-python",
   "name": "python",
   "nbconvert_exporter": "python",
   "pygments_lexer": "ipython3",
   "version": "3.9.7"
  }
 },
 "nbformat": 4,
 "nbformat_minor": 2
}
