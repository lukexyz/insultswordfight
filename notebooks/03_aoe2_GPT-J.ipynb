{
 "cells": [
  {
   "cell_type": "code",
   "execution_count": null,
   "metadata": {},
   "outputs": [],
   "source": [
    "# default_exp core"
   ]
  },
  {
   "cell_type": "markdown",
   "metadata": {},
   "source": [
    "# Few-shot Learning with GPT-J\n",
    "\n",
    "> API details."
   ]
  },
  {
   "cell_type": "code",
   "execution_count": 1,
   "metadata": {},
   "outputs": [],
   "source": [
    "# export\n",
    "import os\n",
    "import pandas as pd"
   ]
  },
  {
   "cell_type": "code",
   "execution_count": 2,
   "metadata": {},
   "outputs": [],
   "source": [
    "#hide\n",
    "from nbdev.showdoc import *\n",
    "import toml\n",
    "s = toml.load(\"../.streamlit/secrets.toml\", _dict=dict)"
   ]
  },
  {
   "cell_type": "markdown",
   "metadata": {},
   "source": [
    "Using `GPT_J` model API from [Nlpcloud](https://nlpcloud.io/home/token)"
   ]
  },
  {
   "cell_type": "code",
   "execution_count": 3,
   "metadata": {},
   "outputs": [],
   "source": [
    "import nlpcloud\n",
    "client = nlpcloud.Client(\"gpt-j\", s['nlpcloud_token'], gpu=True)"
   ]
  },
  {
   "cell_type": "code",
   "execution_count": 9,
   "metadata": {},
   "outputs": [
    {
     "name": "stdout",
     "output_type": "stream",
     "text": [
      "\n",
      "🔥🔥🔥   It was a gift from my cat!\n",
      "\n"
     ]
    }
   ],
   "source": [
    "# example API call\n",
    "generation = client.generation(\"\"\"Insult: You fight like a dairy Farmer!\n",
    "            Comeback: How appropriate. You fight like a cow!\n",
    "            ###\n",
    "            Insult: This is the END for you, you gutter crawling cur!\n",
    "            Comeback: And I've got a little TIP for you, get the POINT?\n",
    "            ###\n",
    "            Insult: I've spoken with apes more polite than you!\n",
    "            Comeback: I'm glad to hear you attended your family reunion!\n",
    "            ###\n",
    "            Insult: Soon you'll be wearing my sword like a shish kebab!\n",
    "            Comeback: First you'd better stop waving it like a feather duster.\n",
    "            ###\n",
    "            Insult: I once owned a dog that was smarter than you.\n",
    "            Comeback: \"\"\",\n",
    "    max_length=100,\n",
    "    length_no_input=True,\n",
    "    end_sequence=\"\\n###\",\n",
    "    remove_input=True)\n",
    "\n",
    "print('\\n🔥🔥🔥 ', generation[\"generated_text\"])"
   ]
  },
  {
   "cell_type": "code",
   "execution_count": 8,
   "metadata": {},
   "outputs": [
    {
     "name": "stdout",
     "output_type": "stream",
     "text": [
      "\n",
      "🔥🔥🔥  \n",
      "\n"
     ]
    }
   ],
   "source": [
    "# example API call\n",
    "generation = client.generation(\"\"\"Civilisation: Britons\n",
    "            Specialty: Foot archers\n",
    "            Unique unit: Longbowman\n",
    "            Unique technologies: Yeomen (+1 range for foot archers and +2 attack for towers)\n",
    "            Warwolf (Trebuchets do blast damage)\n",
    "            Wonder: Chichester Cathedral\n",
    "            Civilization bonuses:\n",
    "            Town Centers cost -50% wood (starting in the Castle Age).\n",
    "            Foot archers (except Skirmishers) have +1/+2 range in the Castle/Imperial Age.\n",
    "            Shepherds work 25% faster.\n",
    "            Team bonus: Archery Ranges work 20% faster.\n",
    "            ###\n",
    "            Civilisation: Mongols\n",
    "            Specialty: Cavalry archers\n",
    "            Unique unit:  Mangudai\n",
    "            Unique technologies: Nomads (Houses retain population when destroyed)\n",
    "            Drill (Siege Workshop units move 50% faster)\n",
    "            Wonder: Great Tent of Genghis Khan\n",
    "            Civilization bonuses:\n",
    "            Cavalry archers fire 25% faster.\n",
    "            Light Cavalry, Hussars, and Steppe Lancers have +30% HP.\n",
    "            Hunters work 40% faster.\n",
    "            Team bonus: The Scout Cavalry line has +2 Line of Sight.\n",
    "            ###\n",
    "            Civilisation: New Zealand Maori\"\"\",\n",
    "    max_length=250,\n",
    "    length_no_input=True,\n",
    "    end_sequence=\"\\n###\",\n",
    "    remove_input=True)\n",
    "\n",
    "print('\\n🔥🔥🔥 ', generation[\"generated_text\"])"
   ]
  },
  {
   "cell_type": "code",
   "execution_count": null,
   "metadata": {},
   "outputs": [],
   "source": [
    "Age of Empires 2 Civilizations in the new expansion.\n",
    "###\n",
    "Civilization: Britons\n",
    "            Specialty: Foot archers\n",
    "            Unique unit: Longbowman\n",
    "            Unique technologies: Yeomen (+1 range for foot archers and +2 attack for towers)\n",
    "            Wonder: Chichester Cathedral\n",
    "            Civilization bonuses: Foot archers (except Skirmishers) have +1/+2 range in the Castle/Imperial Age,\n",
    "            Civilization bonuses: Shepherds work 25% faster.\n",
    "            ###\n",
    "            Civilization: Mongols\n",
    "            Specialty: Cavalry archers\n",
    "            Unique unit:  Mangudai\n",
    "            Unique technologies: Nomads (Houses retain population when destroyed)\n",
    "            Unique technologies: Drill (Siege Workshop units move 50% faster)\n",
    "            Wonder: Great Tent of Genghis Khan\n",
    "            Civilization bonuses:  Cavalry archers fire 25% faster.\n",
    "            Civilization bonuses:   Hunters work 40% faster.\n",
    "            ###\n",
    "            Civilization: Soviet Union"
   ]
  },
  {
   "cell_type": "code",
   "execution_count": null,
   "metadata": {},
   "outputs": [],
   "source": []
  },
  {
   "cell_type": "code",
   "execution_count": null,
   "metadata": {},
   "outputs": [],
   "source": []
  },
  {
   "cell_type": "code",
   "execution_count": null,
   "metadata": {},
   "outputs": [],
   "source": []
  },
  {
   "cell_type": "code",
   "execution_count": null,
   "metadata": {},
   "outputs": [],
   "source": [
    "#export\n",
    "import os\n",
    "\n",
    "def get_insult_data():\n",
    "    \"\"\"\n",
    "    Scrape insult/comeback data from Monkey Island fandom wiki\n",
    "    \"\"\"\n",
    "    dpath = 'data/insults.csv'\n",
    "    if os.path.exists(dpath):\n",
    "        pirate = pd.read_csv(dpath, index_col=0)\n",
    "    else:\n",
    "        tb = pd.read_html(\"https://monkeyisland.fandom.com/wiki/Insult_Sword_Fighting\")\n",
    "        pirate, master = tb[0], tb[1]\n",
    "        pirate.to_csv(dpath)\n",
    "    return pirate\n"
   ]
  },
  {
   "cell_type": "code",
   "execution_count": null,
   "metadata": {},
   "outputs": [
    {
     "data": {
      "text/html": [
       "<div>\n",
       "<style scoped>\n",
       "    .dataframe tbody tr th:only-of-type {\n",
       "        vertical-align: middle;\n",
       "    }\n",
       "\n",
       "    .dataframe tbody tr th {\n",
       "        vertical-align: top;\n",
       "    }\n",
       "\n",
       "    .dataframe thead th {\n",
       "        text-align: right;\n",
       "    }\n",
       "</style>\n",
       "<table border=\"1\" class=\"dataframe\">\n",
       "  <thead>\n",
       "    <tr style=\"text-align: right;\">\n",
       "      <th></th>\n",
       "      <th>Insult</th>\n",
       "      <th>Comeback</th>\n",
       "    </tr>\n",
       "  </thead>\n",
       "  <tbody>\n",
       "    <tr>\n",
       "      <th>0</th>\n",
       "      <td>You fight like a dairy Farmer!</td>\n",
       "      <td>How appropriate. You fight like a cow!</td>\n",
       "    </tr>\n",
       "    <tr>\n",
       "      <th>1</th>\n",
       "      <td>This is the END for you, you gutter crawling cur!</td>\n",
       "      <td>And I've got a little TIP for you, get the POINT?</td>\n",
       "    </tr>\n",
       "    <tr>\n",
       "      <th>2</th>\n",
       "      <td>I've spoken with apes more polite than you!</td>\n",
       "      <td>I'm glad to hear you attended your family reun...</td>\n",
       "    </tr>\n",
       "  </tbody>\n",
       "</table>\n",
       "</div>"
      ],
      "text/plain": [
       "                                              Insult  \\\n",
       "0                     You fight like a dairy Farmer!   \n",
       "1  This is the END for you, you gutter crawling cur!   \n",
       "2        I've spoken with apes more polite than you!   \n",
       "\n",
       "                                            Comeback  \n",
       "0             How appropriate. You fight like a cow!  \n",
       "1  And I've got a little TIP for you, get the POINT?  \n",
       "2  I'm glad to hear you attended your family reun...  "
      ]
     },
     "execution_count": null,
     "metadata": {},
     "output_type": "execute_result"
    }
   ],
   "source": [
    "df = get_insult_data()\n",
    "df.head(3)"
   ]
  },
  {
   "cell_type": "markdown",
   "metadata": {},
   "source": [
    "##  ⚔️ Generate Swordfight"
   ]
  },
  {
   "cell_type": "code",
   "execution_count": null,
   "metadata": {},
   "outputs": [],
   "source": [
    "# export\n",
    "\n",
    "def create_input_string(insult, df, training_examples=5, intro=False):\n",
    "    \"\"\"\n",
    "    Loops through insult database and creates few-shot learning string\n",
    "        Skips over input insult/comeback in database\n",
    "    \"\"\"\n",
    "    if intro: s = \"The following is an insult battle between two pirates. \\n###\\n\"\n",
    "    else: s = \"\"\n",
    "        \n",
    "    for i in range(training_examples):\n",
    "        if df.Insult[i] == insult: # add example from end of pack\n",
    "            i = training_examples + 1 \n",
    "        s += f\"\"\"Insult: {df.Insult[i]}\\nComeback: {df.Comeback[i]}\\n###\\n\"\"\"\n",
    "    \n",
    "    return f\"{s}Insult: {insult}\\nComeback:\"\n"
   ]
  },
  {
   "cell_type": "code",
   "execution_count": null,
   "metadata": {},
   "outputs": [
    {
     "name": "stdout",
     "output_type": "stream",
     "text": [
      "Insult: You fight like a dairy Farmer!\n",
      "Comeback: How appropriate. You fight like a cow!\n",
      "###\n",
      "Insult: This is the END for you, you gutter crawling cur!\n",
      "Comeback: And I've got a little TIP for you, get the POINT?\n",
      "###\n",
      "Insult: I've spoken with apes more polite than you!\n",
      "Comeback: I'm glad to hear you attended your family reunion!\n",
      "###\n",
      "Insult: People fall at my feet when they see me coming!\n",
      "Comeback:\n"
     ]
    }
   ],
   "source": [
    "t = create_input_string(\"People fall at my feet when they see me coming!\", df, training_examples=3)\n",
    "print(t)"
   ]
  },
  {
   "cell_type": "code",
   "execution_count": null,
   "metadata": {},
   "outputs": [],
   "source": [
    "# export\n",
    "\n",
    "def generate_comeback(insult, client, df, outputs, training_examples=3):\n",
    "    \"\"\"\n",
    "    Creates input string and sends to nlpcloud for few-shot learning\n",
    "    \"\"\"\n",
    "    print(f'Insult: ☠️ {insult} ☠️\\n')\n",
    "    t = create_input_string(insult, df, training_examples)\n",
    "    zingers = []\n",
    "    for i in range(outputs):\n",
    "        generation = client.generation(t,\n",
    "            max_length=100,\n",
    "            length_no_input=True,\n",
    "            end_sequence=\"\\n###\",\n",
    "            remove_input=True)\n",
    "        comeback = generation[\"generated_text\"].strip('\\n')\n",
    "        print(f\"Comeback: ({i}) {comeback} 🔥🔥🔥\\n\")\n",
    "        zingers.append(comeback)\n",
    "    return zingers\n"
   ]
  },
  {
   "cell_type": "markdown",
   "metadata": {},
   "source": [
    "### Zinger Generation ⚓"
   ]
  },
  {
   "cell_type": "code",
   "execution_count": null,
   "metadata": {},
   "outputs": [
    {
     "name": "stdout",
     "output_type": "stream",
     "text": [
      "Insult: ☠️ I've seen better moves in a senior citizen Zumba class! ☠️\n",
      "\n",
      "Comeback: (0)  Your sagging pecker is bouncing like a yo-yo! 🔥🔥🔥\n",
      "\n",
      "Comeback: (1)  I bet you're the only one in the room who can do the Valse! 🔥🔥🔥\n",
      "\n"
     ]
    },
    {
     "data": {
      "text/plain": [
       "[' Your sagging pecker is bouncing like a yo-yo!',\n",
       " \" I bet you're the only one in the room who can do the Valse!\"]"
      ]
     },
     "execution_count": null,
     "metadata": {},
     "output_type": "execute_result"
    }
   ],
   "source": [
    "generate_comeback(\"I've seen better moves in a senior citizen Zumba class!\", client=client, df=df, outputs=2, training_examples=6)"
   ]
  },
  {
   "cell_type": "code",
   "execution_count": null,
   "metadata": {},
   "outputs": [
    {
     "name": "stdout",
     "output_type": "stream",
     "text": [
      "Insult: ☠️ Every word you say to me is stupid.\n",
      "\n",
      "Comeback: (0)  Is that right? I'll tell you something even stupider. 🔥🔥🔥\n",
      "\n",
      "Comeback: (1)  You have a mouth full of CRAP! 🔥🔥🔥\n",
      "\n",
      "Comeback: (2)  Every one of your sentences is complete and total BULLSHIT! 🔥🔥🔥\n",
      "\n"
     ]
    }
   ],
   "source": [
    "generate_comeback('Every word you say to me is stupid.', client=client, df=df, outputs=3, training_examples=6)"
   ]
  },
  {
   "cell_type": "code",
   "execution_count": null,
   "metadata": {},
   "outputs": [
    {
     "name": "stdout",
     "output_type": "stream",
     "text": [
      "Insult: ☠️ Why are you such a stupid dumb idiot? ☠️\n",
      "\n",
      "Comeback: (0)  Because you are, that's why! 🔥🔥🔥\n",
      "\n"
     ]
    }
   ],
   "source": [
    "generate_comeback('Why are you such a stupid dumb idiot?', client=client, outputs=1, training_examples=9)"
   ]
  },
  {
   "cell_type": "code",
   "execution_count": null,
   "metadata": {},
   "outputs": [
    {
     "name": "stdout",
     "output_type": "stream",
     "text": [
      "Insult: ☠️ Heaven preserve me! You look like something that's died!\n",
      "\n",
      "Comeback: (0)  You don't say! It's too bad you didn't have a mirror. 🔥🔥🔥\n",
      "\n",
      "Comeback: (1)  I was in a hurry to see if I'd got any mail. 🔥🔥🔥\n",
      "\n",
      "Comeback: (2)  You could use some fresh air. 🔥🔥🔥\n",
      "\n"
     ]
    }
   ],
   "source": [
    "generate_comeback(\"Heaven preserve me! You look like something that's died!\", client, outputs=3, training_examples=15)"
   ]
  },
  {
   "cell_type": "code",
   "execution_count": null,
   "metadata": {},
   "outputs": [
    {
     "name": "stdout",
     "output_type": "stream",
     "text": [
      "$0.2237\n"
     ]
    }
   ],
   "source": [
    "# API Cost PAYG @ nlpcloud.io\n",
    "gpu_api_calls = 182\n",
    "tokens_generated = 417\n",
    "print(f'${gpu_api_calls * 0.001 + 0.0001 * tokens_generated}')"
   ]
  }
 ],
 "metadata": {
  "kernelspec": {
   "display_name": "Python 3 (ipykernel)",
   "language": "python",
   "name": "python3"
  },
  "language_info": {
   "codemirror_mode": {
    "name": "ipython",
    "version": 3
   },
   "file_extension": ".py",
   "mimetype": "text/x-python",
   "name": "python",
   "nbconvert_exporter": "python",
   "pygments_lexer": "ipython3",
   "version": "3.9.7"
  }
 },
 "nbformat": 4,
 "nbformat_minor": 2
}
