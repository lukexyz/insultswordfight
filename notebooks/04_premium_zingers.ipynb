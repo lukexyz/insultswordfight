{
 "cells": [
  {
   "cell_type": "code",
   "execution_count": 1,
   "metadata": {},
   "outputs": [],
   "source": [
    "# default_exp core"
   ]
  },
  {
   "cell_type": "markdown",
   "metadata": {},
   "source": [
    "# Few-shot Learning with GPT-J\n",
    "\n",
    "> API details."
   ]
  },
  {
   "cell_type": "code",
   "execution_count": 41,
   "metadata": {},
   "outputs": [],
   "source": [
    "# export\n",
    "import os\n",
    "import pandas as pd"
   ]
  },
  {
   "cell_type": "code",
   "execution_count": 42,
   "metadata": {},
   "outputs": [],
   "source": [
    "#hide\n",
    "from nbdev.showdoc import *\n",
    "import toml\n",
    "s = toml.load(\"../.streamlit/secrets.toml\", _dict=dict)"
   ]
  },
  {
   "cell_type": "markdown",
   "metadata": {},
   "source": [
    "## 🤑🤑 Premium Zingers 🤑🤑\n",
    "\n",
    "\n",
    "Premium zingers are cherry picked, crowd sourced, from stage-one of the web app."
   ]
  },
  {
   "cell_type": "code",
   "execution_count": 51,
   "metadata": {},
   "outputs": [],
   "source": [
    "pd.set_option('display.max_colwidth', 0)"
   ]
  },
  {
   "cell_type": "code",
   "execution_count": 49,
   "metadata": {},
   "outputs": [
    {
     "data": {
      "text/html": [
       "<style type=\"text/css\">\n",
       "#T_31048_row0_col0, #T_31048_row0_col1, #T_31048_row0_col2, #T_31048_row0_col3, #T_31048_row1_col0, #T_31048_row1_col1, #T_31048_row1_col2, #T_31048_row1_col3, #T_31048_row2_col0, #T_31048_row2_col1, #T_31048_row2_col2, #T_31048_row2_col3, #T_31048_row3_col0, #T_31048_row3_col1, #T_31048_row3_col2, #T_31048_row3_col3, #T_31048_row4_col0, #T_31048_row4_col1, #T_31048_row4_col2, #T_31048_row4_col3, #T_31048_row5_col0, #T_31048_row5_col1, #T_31048_row5_col2, #T_31048_row5_col3, #T_31048_row6_col0, #T_31048_row6_col1, #T_31048_row6_col2, #T_31048_row6_col3, #T_31048_row7_col0, #T_31048_row7_col1, #T_31048_row7_col2, #T_31048_row7_col3, #T_31048_row8_col0, #T_31048_row8_col1, #T_31048_row8_col2, #T_31048_row8_col3, #T_31048_row9_col0, #T_31048_row9_col1, #T_31048_row9_col2, #T_31048_row9_col3, #T_31048_row10_col0, #T_31048_row10_col1, #T_31048_row10_col2, #T_31048_row10_col3, #T_31048_row11_col0, #T_31048_row11_col1, #T_31048_row11_col2, #T_31048_row11_col3, #T_31048_row12_col0, #T_31048_row12_col1, #T_31048_row12_col2, #T_31048_row12_col3, #T_31048_row13_col0, #T_31048_row13_col1, #T_31048_row13_col2, #T_31048_row13_col3, #T_31048_row14_col0, #T_31048_row14_col1, #T_31048_row14_col2, #T_31048_row14_col3, #T_31048_row15_col0, #T_31048_row15_col1, #T_31048_row15_col2, #T_31048_row15_col3, #T_31048_row16_col0, #T_31048_row16_col1, #T_31048_row16_col2, #T_31048_row16_col3 {\n",
       "  text-align: left;\n",
       "}\n",
       "</style>\n",
       "<table id=\"T_31048_\">\n",
       "  <thead>\n",
       "    <tr>\n",
       "      <th class=\"blank level0\" >&nbsp;</th>\n",
       "      <th class=\"col_heading level0 col0\" >time_utc</th>\n",
       "      <th class=\"col_heading level0 col1\" >insult</th>\n",
       "      <th class=\"col_heading level0 col2\" >comeback</th>\n",
       "      <th class=\"col_heading level0 col3\" >mood</th>\n",
       "    </tr>\n",
       "  </thead>\n",
       "  <tbody>\n",
       "    <tr>\n",
       "      <th id=\"T_31048_level0_row0\" class=\"row_heading level0 row0\" >0</th>\n",
       "      <td id=\"T_31048_row0_col0\" class=\"data row0 col0\" >13/02/2022 09:54</td>\n",
       "      <td id=\"T_31048_row0_col1\" class=\"data row0 col1\" >A real Mighty Pirateâ„¢ doesn't hide behind 1s and 0s!</td>\n",
       "      <td id=\"T_31048_row0_col2\" class=\"data row0 col2\" > You can't even count to 10!</td>\n",
       "      <td id=\"T_31048_row0_col3\" class=\"data row0 col3\" >ðŸ’–</td>\n",
       "    </tr>\n",
       "    <tr>\n",
       "      <th id=\"T_31048_level0_row1\" class=\"row_heading level0 row1\" >1</th>\n",
       "      <td id=\"T_31048_row1_col0\" class=\"data row1 col0\" >13/02/2022 00:33</td>\n",
       "      <td id=\"T_31048_row1_col1\" class=\"data row1 col1\" >Which is mightier, my quill or my cutlass?</td>\n",
       "      <td id=\"T_31048_row1_col2\" class=\"data row1 col2\" > My sword is sharper... and it's a lot longer!</td>\n",
       "      <td id=\"T_31048_row1_col3\" class=\"data row1 col3\" >ðŸ’…</td>\n",
       "    </tr>\n",
       "    <tr>\n",
       "      <th id=\"T_31048_level0_row2\" class=\"row_heading level0 row2\" >2</th>\n",
       "      <td id=\"T_31048_row2_col0\" class=\"data row2 col0\" >12/02/2022 22:47</td>\n",
       "      <td id=\"T_31048_row2_col1\" class=\"data row2 col1\" >I've spoken with apes that have created better Monkey Island web apps.</td>\n",
       "      <td id=\"T_31048_row2_col2\" class=\"data row2 col2\" > Well, I'm glad to see you're not afraid of change.</td>\n",
       "      <td id=\"T_31048_row2_col3\" class=\"data row2 col3\" >â˜ ï¸</td>\n",
       "    </tr>\n",
       "    <tr>\n",
       "      <th id=\"T_31048_level0_row3\" class=\"row_heading level0 row3\" >3</th>\n",
       "      <td id=\"T_31048_row3_col0\" class=\"data row3 col0\" >12/02/2022 19:40</td>\n",
       "      <td id=\"T_31048_row3_col1\" class=\"data row3 col1\" >You have a face like a baboon's ass.</td>\n",
       "      <td id=\"T_31048_row3_col2\" class=\"data row3 col2\" > If you think that's a compliment, I'm not surprised.</td>\n",
       "      <td id=\"T_31048_row3_col3\" class=\"data row3 col3\" >â˜ ï¸</td>\n",
       "    </tr>\n",
       "    <tr>\n",
       "      <th id=\"T_31048_level0_row4\" class=\"row_heading level0 row4\" >4</th>\n",
       "      <td id=\"T_31048_row4_col0\" class=\"data row4 col0\" >13/02/2022 00:16</td>\n",
       "      <td id=\"T_31048_row4_col1\" class=\"data row4 col1\" >I.. did not.. have sexual relations.. with that woman</td>\n",
       "      <td id=\"T_31048_row4_col2\" class=\"data row4 col2\" > Well, I did. And I enjoyed it very much.</td>\n",
       "      <td id=\"T_31048_row4_col3\" class=\"data row4 col3\" >ðŸ˜²</td>\n",
       "    </tr>\n",
       "    <tr>\n",
       "      <th id=\"T_31048_level0_row5\" class=\"row_heading level0 row5\" >5</th>\n",
       "      <td id=\"T_31048_row5_col0\" class=\"data row5 col0\" >12/02/2022 22:48</td>\n",
       "      <td id=\"T_31048_row5_col1\" class=\"data row5 col1\" >When you're famous they let you do whatever you want. Grab 'em by the pussy!</td>\n",
       "      <td id=\"T_31048_row5_col2\" class=\"data row5 col2\" > You'd grab the pussy of your own mother if you could get away with it!</td>\n",
       "      <td id=\"T_31048_row5_col3\" class=\"data row5 col3\" >ðŸ˜²</td>\n",
       "    </tr>\n",
       "    <tr>\n",
       "      <th id=\"T_31048_level0_row6\" class=\"row_heading level0 row6\" >6</th>\n",
       "      <td id=\"T_31048_row6_col0\" class=\"data row6 col0\" >13/02/2022 02:08</td>\n",
       "      <td id=\"T_31048_row6_col1\" class=\"data row6 col1\" >I think you are really cute! Would you like to go out for a drink sometime?</td>\n",
       "      <td id=\"T_31048_row6_col2\" class=\"data row6 col2\" > With you? I'd rather have a root canal!</td>\n",
       "      <td id=\"T_31048_row6_col3\" class=\"data row6 col3\" >ðŸ˜­</td>\n",
       "    </tr>\n",
       "    <tr>\n",
       "      <th id=\"T_31048_level0_row7\" class=\"row_heading level0 row7\" >7</th>\n",
       "      <td id=\"T_31048_row7_col0\" class=\"data row7 col0\" >13/02/2022 08:44</td>\n",
       "      <td id=\"T_31048_row7_col1\" class=\"data row7 col1\" >Insulting you is a waste of breath </td>\n",
       "      <td id=\"T_31048_row7_col2\" class=\"data row7 col2\" > You can't insult me, I don't breathe.</td>\n",
       "      <td id=\"T_31048_row7_col3\" class=\"data row7 col3\" >ðŸ”¥ðŸ”¥</td>\n",
       "    </tr>\n",
       "    <tr>\n",
       "      <th id=\"T_31048_level0_row8\" class=\"row_heading level0 row8\" >8</th>\n",
       "      <td id=\"T_31048_row8_col0\" class=\"data row8 col0\" >13/02/2022 11:15</td>\n",
       "      <td id=\"T_31048_row8_col1\" class=\"data row8 col1\" >No one has ever beaten me in a fight!</td>\n",
       "      <td id=\"T_31048_row8_col2\" class=\"data row8 col2\" > That's because you're too fat to throw a punch!</td>\n",
       "      <td id=\"T_31048_row8_col3\" class=\"data row8 col3\" >ðŸ”¥ðŸ”¥</td>\n",
       "    </tr>\n",
       "    <tr>\n",
       "      <th id=\"T_31048_level0_row9\" class=\"row_heading level0 row9\" >9</th>\n",
       "      <td id=\"T_31048_row9_col0\" class=\"data row9 col0\" >13/02/2022 11:17</td>\n",
       "      <td id=\"T_31048_row9_col1\" class=\"data row9 col1\" >I've killed more people than some countries have inhabitants!</td>\n",
       "      <td id=\"T_31048_row9_col2\" class=\"data row9 col2\" > Have you ever considered a career in politics?</td>\n",
       "      <td id=\"T_31048_row9_col3\" class=\"data row9 col3\" >ðŸ”¥ðŸ”¥</td>\n",
       "    </tr>\n",
       "    <tr>\n",
       "      <th id=\"T_31048_level0_row10\" class=\"row_heading level0 row10\" >10</th>\n",
       "      <td id=\"T_31048_row10_col0\" class=\"data row10 col0\" >13/02/2022 11:19</td>\n",
       "      <td id=\"T_31048_row10_col1\" class=\"data row10 col1\" >You're gonna be unrecognizable when I'm done with you!</td>\n",
       "      <td id=\"T_31048_row10_col2\" class=\"data row10 col2\" > You'd better clean your glasses first.</td>\n",
       "      <td id=\"T_31048_row10_col3\" class=\"data row10 col3\" >ðŸ”¥ðŸ”¥</td>\n",
       "    </tr>\n",
       "    <tr>\n",
       "      <th id=\"T_31048_level0_row11\" class=\"row_heading level0 row11\" >11</th>\n",
       "      <td id=\"T_31048_row11_col0\" class=\"data row11 col0\" >13/02/2022 17:45</td>\n",
       "      <td id=\"T_31048_row11_col1\" class=\"data row11 col1\" >Your mother looks like Jack Black's left testicle</td>\n",
       "      <td id=\"T_31048_row11_col2\" class=\"data row11 col2\" > Oh yeah? Your mother looks like Al Gore's right testicle.</td>\n",
       "      <td id=\"T_31048_row11_col3\" class=\"data row11 col3\" >ðŸ”¥ðŸ”¥</td>\n",
       "    </tr>\n",
       "    <tr>\n",
       "      <th id=\"T_31048_level0_row12\" class=\"row_heading level0 row12\" >12</th>\n",
       "      <td id=\"T_31048_row12_col0\" class=\"data row12 col0\" >13/02/2022 18:23</td>\n",
       "      <td id=\"T_31048_row12_col1\" class=\"data row12 col1\" >Is that a dead rat inside your mouth?</td>\n",
       "      <td id=\"T_31048_row12_col2\" class=\"data row12 col2\" > It couldn't have been dead for long. Its whiskers were still twitching.</td>\n",
       "      <td id=\"T_31048_row12_col3\" class=\"data row12 col3\" >ðŸ”¥ðŸ”¥</td>\n",
       "    </tr>\n",
       "    <tr>\n",
       "      <th id=\"T_31048_level0_row13\" class=\"row_heading level0 row13\" >13</th>\n",
       "      <td id=\"T_31048_row13_col0\" class=\"data row13 col0\" >13/02/2022 21:15</td>\n",
       "      <td id=\"T_31048_row13_col1\" class=\"data row13 col1\" >Ive seen fancier moves at a retirement home.</td>\n",
       "      <td id=\"T_31048_row13_col2\" class=\"data row13 col2\" > Why don't you spend less time at the casino and more time with your grandchildren?</td>\n",
       "      <td id=\"T_31048_row13_col3\" class=\"data row13 col3\" >ðŸ”¥ðŸ”¥</td>\n",
       "    </tr>\n",
       "    <tr>\n",
       "      <th id=\"T_31048_level0_row14\" class=\"row_heading level0 row14\" >14</th>\n",
       "      <td id=\"T_31048_row14_col0\" class=\"data row14 col0\" >13/02/2022 21:16</td>\n",
       "      <td id=\"T_31048_row14_col1\" class=\"data row14 col1\" >You're not very sharp, Get the point?</td>\n",
       "      <td id=\"T_31048_row14_col2\" class=\"data row14 col2\" > Yes, I get the point, thanks.</td>\n",
       "      <td id=\"T_31048_row14_col3\" class=\"data row14 col3\" >ðŸ’–</td>\n",
       "    </tr>\n",
       "    <tr>\n",
       "      <th id=\"T_31048_level0_row15\" class=\"row_heading level0 row15\" >15</th>\n",
       "      <td id=\"T_31048_row15_col0\" class=\"data row15 col0\" >13/02/2022 21:41</td>\n",
       "      <td id=\"T_31048_row15_col1\" class=\"data row15 col1\" >Every enemy I've met, I've annihilated. </td>\n",
       "      <td id=\"T_31048_row15_col2\" class=\"data row15 col2\" > Sounds like you're a bit short on enemies.</td>\n",
       "      <td id=\"T_31048_row15_col3\" class=\"data row15 col3\" >ðŸ”¥ðŸ”¥</td>\n",
       "    </tr>\n",
       "    <tr>\n",
       "      <th id=\"T_31048_level0_row16\" class=\"row_heading level0 row16\" >16</th>\n",
       "      <td id=\"T_31048_row16_col0\" class=\"data row16 col0\" >15/02/2022 18:36</td>\n",
       "      <td id=\"T_31048_row16_col1\" class=\"data row16 col1\" >Your insults are even worse than the community shared zingers in the burn book!</td>\n",
       "      <td id=\"T_31048_row16_col2\" class=\"data row16 col2\" > It's a miracle I'm still standing!</td>\n",
       "      <td id=\"T_31048_row16_col3\" class=\"data row16 col3\" >ðŸ˜Ž</td>\n",
       "    </tr>\n",
       "  </tbody>\n",
       "</table>\n"
      ],
      "text/plain": [
       "<pandas.io.formats.style.Styler at 0x7fcdc4819a00>"
      ]
     },
     "execution_count": 49,
     "metadata": {},
     "output_type": "execute_result"
    }
   ],
   "source": [
    "pz = pd.read_csv('../media/premium_zingers.csv', encoding=\"utf_8_sig\")\n",
    "pz.style.set_properties(**{'text-align': 'left'})"
   ]
  },
  {
   "cell_type": "code",
   "execution_count": 50,
   "metadata": {},
   "outputs": [
    {
     "data": {
      "text/html": [
       "<div>\n",
       "<style scoped>\n",
       "    .dataframe tbody tr th:only-of-type {\n",
       "        vertical-align: middle;\n",
       "    }\n",
       "\n",
       "    .dataframe tbody tr th {\n",
       "        vertical-align: top;\n",
       "    }\n",
       "\n",
       "    .dataframe thead th {\n",
       "        text-align: right;\n",
       "    }\n",
       "</style>\n",
       "<table border=\"1\" class=\"dataframe\">\n",
       "  <thead>\n",
       "    <tr style=\"text-align: right;\">\n",
       "      <th></th>\n",
       "      <th>time_utc</th>\n",
       "      <th>Insult</th>\n",
       "      <th>Comeback</th>\n",
       "      <th>mood</th>\n",
       "    </tr>\n",
       "  </thead>\n",
       "  <tbody>\n",
       "    <tr>\n",
       "      <th>0</th>\n",
       "      <td>13/02/2022 09:54</td>\n",
       "      <td>A real Mighty Pirateâ„¢ doesn't hide behind 1s and 0s!</td>\n",
       "      <td>You can't even count to 10!</td>\n",
       "      <td>ðŸ’–</td>\n",
       "    </tr>\n",
       "    <tr>\n",
       "      <th>1</th>\n",
       "      <td>13/02/2022 00:33</td>\n",
       "      <td>Which is mightier, my quill or my cutlass?</td>\n",
       "      <td>My sword is sharper... and it's a lot longer!</td>\n",
       "      <td>ðŸ’…</td>\n",
       "    </tr>\n",
       "    <tr>\n",
       "      <th>2</th>\n",
       "      <td>12/02/2022 22:47</td>\n",
       "      <td>I've spoken with apes that have created better Monkey Island web apps.</td>\n",
       "      <td>Well, I'm glad to see you're not afraid of change.</td>\n",
       "      <td>â˜ ï¸</td>\n",
       "    </tr>\n",
       "  </tbody>\n",
       "</table>\n",
       "</div>"
      ],
      "text/plain": [
       "           time_utc  \\\n",
       "0  13/02/2022 09:54   \n",
       "1  13/02/2022 00:33   \n",
       "2  12/02/2022 22:47   \n",
       "\n",
       "                                                                   Insult  \\\n",
       "0  A real Mighty Pirateâ„¢ doesn't hide behind 1s and 0s!                   \n",
       "1  Which is mightier, my quill or my cutlass?                               \n",
       "2  I've spoken with apes that have created better Monkey Island web apps.   \n",
       "\n",
       "                                              Comeback    mood  \n",
       "0   You can't even count to 10!                         ðŸ’–    \n",
       "1   My sword is sharper... and it's a lot longer!       ðŸ’…    \n",
       "2   Well, I'm glad to see you're not afraid of change.  â˜ ï¸  "
      ]
     },
     "execution_count": 50,
     "metadata": {},
     "output_type": "execute_result"
    }
   ],
   "source": [
    "df = pz\n",
    "df.columns = ['time_utc', 'Insult', 'Comeback', 'mood']\n",
    "df.head(3)"
   ]
  },
  {
   "cell_type": "markdown",
   "metadata": {},
   "source": [
    "Using `GPT_J` model API from [Nlpcloud](https://nlpcloud.io/home/token)"
   ]
  },
  {
   "cell_type": "code",
   "execution_count": 15,
   "metadata": {},
   "outputs": [
    {
     "name": "stdout",
     "output_type": "stream",
     "text": [
      "\n",
      "🔥🔥🔥   I once owned a cat that was cleaner than you!\n",
      "\n"
     ]
    }
   ],
   "source": [
    "import nlpcloud\n",
    "client = nlpcloud.Client(\"gpt-j\", s['nlpcloud_token'], gpu=True)\n",
    "\n",
    "# example API call\n",
    "generation = client.generation(\"\"\"Insult: You fight like a dairy Farmer!\n",
    "            Comeback: How appropriate. You fight like a cow!\n",
    "            ###\n",
    "            Insult: This is the END for you, you gutter crawling cur!\n",
    "            Comeback: And I've got a little TIP for you, get the POINT?\n",
    "            ###\n",
    "            Insult: I've spoken with apes more polite than you!\n",
    "            Comeback: I'm glad to hear you attended your family reunion!\n",
    "            ###\n",
    "            Insult: Soon you'll be wearing my sword like a shish kebab!\n",
    "            Comeback: First you'd better stop waving it like a feather duster.\n",
    "            ###\n",
    "            Insult: I once owned a dog that was smarter than you.\n",
    "            Comeback: \"\"\",\n",
    "    max_length=100,\n",
    "    length_no_input=True,\n",
    "    end_sequence=\"\\n###\",\n",
    "    remove_input=True)\n",
    "\n",
    "print('\\n🔥🔥🔥 ', generation[\"generated_text\"])"
   ]
  },
  {
   "cell_type": "markdown",
   "metadata": {},
   "source": [
    "##  ⚔️ Generate Swordfight"
   ]
  },
  {
   "cell_type": "code",
   "execution_count": 21,
   "metadata": {},
   "outputs": [],
   "source": [
    "# export\n",
    "\n",
    "def create_input_string(insult, df, training_examples=5, intro=False):\n",
    "    \"\"\"\n",
    "    Loops through insult database and creates few-shot learning string\n",
    "        Skips over input insult/comeback in database\n",
    "    \"\"\"\n",
    "    if intro: s = \"The following is an insult battle between two pirates. \\n###\\n\"\n",
    "    else: s = \"\"\n",
    "        \n",
    "    for i in range(training_examples):\n",
    "        if df.Insult[i] == insult: # add example from end of pack\n",
    "            i = training_examples + 1 \n",
    "        s += f\"\"\"Insult: {df.Insult[i]}\\nComeback: {df.Comeback[i]}\\n###\\n\"\"\"\n",
    "    \n",
    "    return f\"{s}Insult: {insult}\\nComeback:\"\n"
   ]
  },
  {
   "cell_type": "code",
   "execution_count": 27,
   "metadata": {},
   "outputs": [
    {
     "name": "stdout",
     "output_type": "stream",
     "text": [
      "Insult: A real Mighty Pirateâ„¢ doesn't hide behind 1s and 0s!\n",
      "Comeback:  You can't even count to 10!\n",
      "###\n",
      "Insult: Which is mightier, my quill or my cutlass?\n",
      "Comeback:  My sword is sharper... and it's a lot longer!\n",
      "###\n",
      "Insult: I've spoken with apes that have created better Monkey Island web apps.\n",
      "Comeback:  Well, I'm glad to see you're not afraid of change.\n",
      "###\n",
      "Insult: You have a face like a baboon's ass.\n",
      "Comeback:  If you think that's a compliment, I'm not surprised.\n",
      "###\n",
      "Insult: I.. did not.. have sexual relations.. with that woman\n",
      "Comeback:  Well, I did. And I enjoyed it very much.\n",
      "###\n",
      "Insult: When you're famous they let you do whatever you want. Grab 'em by the pussy!\n",
      "Comeback:  You'd grab the pussy of your own mother if you could get away with it!\n",
      "###\n",
      "Insult: People fall at my feet when they see me coming!\n",
      "Comeback:\n"
     ]
    }
   ],
   "source": [
    "t = create_input_string(\"People fall at my feet when they see me coming!\", df, training_examples=6)\n",
    "print(t)"
   ]
  },
  {
   "cell_type": "code",
   "execution_count": 28,
   "metadata": {},
   "outputs": [],
   "source": [
    "# export\n",
    "\n",
    "def generate_comeback(insult, client, df, outputs, training_examples=3):\n",
    "    \"\"\"\n",
    "    Creates input string and sends to nlpcloud for few-shot learning\n",
    "    \"\"\"\n",
    "    print(f'Insult: ☠️ {insult} ☠️\\n')\n",
    "    t = create_input_string(insult, df, training_examples)\n",
    "    zingers = []\n",
    "    for i in range(outputs):\n",
    "        generation = client.generation(t,\n",
    "            max_length=100,\n",
    "            length_no_input=True,\n",
    "            end_sequence=\"\\n###\",\n",
    "            remove_input=True)\n",
    "        comeback = generation[\"generated_text\"].strip('\\n')\n",
    "        print(f\"Comeback: ({i}) {comeback} 🔥🔥🔥\\n\")\n",
    "        zingers.append(comeback)\n",
    "    return zingers\n"
   ]
  },
  {
   "cell_type": "markdown",
   "metadata": {},
   "source": [
    "### Zinger Generation ⚓"
   ]
  },
  {
   "cell_type": "code",
   "execution_count": 29,
   "metadata": {},
   "outputs": [
    {
     "name": "stdout",
     "output_type": "stream",
     "text": [
      "Insult: ☠️ People fall at my feet when they see me coming! ☠️\n",
      "\n",
      "Comeback: (0)   Then I'll kill ya! 🔥🔥🔥\n",
      "\n",
      "Comeback: (1)   You look like everyone's best friend when you get angry. 🔥🔥🔥\n",
      "\n"
     ]
    },
    {
     "data": {
      "text/plain": [
       "[\"  Then I'll kill ya!\",\n",
       " \"  You look like everyone's best friend when you get angry.\"]"
      ]
     },
     "execution_count": 29,
     "metadata": {},
     "output_type": "execute_result"
    }
   ],
   "source": [
    "generate_comeback(\"People fall at my feet when they see me coming!\", client=client, df=df, outputs=2, training_examples=6)"
   ]
  },
  {
   "cell_type": "code",
   "execution_count": 30,
   "metadata": {},
   "outputs": [
    {
     "name": "stdout",
     "output_type": "stream",
     "text": [
      "Insult: ☠️ Every word you say to me is stupid. ☠️\n",
      "\n",
      "Comeback: (0)   I'm really glad you have different standards for the rest of the world too! 🔥🔥🔥\n",
      "\n",
      "Comeback: (1)   I'm sorry, I didn't hear what you said... 🔥🔥🔥\n",
      "\n",
      "Comeback: (2)   You're not the only one that thinks that. 🔥🔥🔥\n",
      "\n"
     ]
    },
    {
     "data": {
      "text/plain": [
       "[\"  I'm really glad you have different standards for the rest of the world too!\",\n",
       " \"  I'm sorry, I didn't hear what you said...\",\n",
       " \"  You're not the only one that thinks that.\"]"
      ]
     },
     "execution_count": 30,
     "metadata": {},
     "output_type": "execute_result"
    }
   ],
   "source": [
    "generate_comeback('Every word you say to me is stupid.', client=client, df=df, outputs=3, training_examples=6)"
   ]
  },
  {
   "cell_type": "code",
   "execution_count": 32,
   "metadata": {},
   "outputs": [
    {
     "name": "stdout",
     "output_type": "stream",
     "text": [
      "Insult: ☠️ Why are you such a stupid dumb idiot? ☠️\n",
      "\n",
      "Comeback: (0)   I'm an idiot, because idiots are the only people who are more stupid than me! 🔥🔥🔥\n",
      "\n"
     ]
    },
    {
     "data": {
      "text/plain": [
       "[\"  I'm an idiot, because idiots are the only people who are more stupid than me!\"]"
      ]
     },
     "execution_count": 32,
     "metadata": {},
     "output_type": "execute_result"
    }
   ],
   "source": [
    "generate_comeback('Why are you such a stupid dumb idiot?', client=client, df=df, outputs=1, training_examples=9)"
   ]
  },
  {
   "cell_type": "code",
   "execution_count": 33,
   "metadata": {},
   "outputs": [
    {
     "name": "stdout",
     "output_type": "stream",
     "text": [
      "Insult: ☠️ Heaven preserve me! You look like something that's died! ☠️\n",
      "\n",
      "Comeback: (0)   Are you sure this is my heaven, and not some kind of Hell? 🔥🔥🔥\n",
      "\n",
      "Comeback: (1)   Well, why else would people want you dead? 🔥🔥🔥\n",
      "\n",
      "Comeback: (2)   You say you want to make your way in life, well, good luck! 🔥🔥🔥\n",
      "\n"
     ]
    },
    {
     "data": {
      "text/plain": [
       "['  Are you sure this is my heaven, and not some kind of Hell?',\n",
       " '  Well, why else would people want you dead?',\n",
       " '  You say you want to make your way in life, well, good luck!']"
      ]
     },
     "execution_count": 33,
     "metadata": {},
     "output_type": "execute_result"
    }
   ],
   "source": [
    "generate_comeback(\"Heaven preserve me! You look like something that's died!\", client, df=df, outputs=3, training_examples=15)"
   ]
  },
  {
   "cell_type": "code",
   "execution_count": null,
   "metadata": {},
   "outputs": [
    {
     "name": "stdout",
     "output_type": "stream",
     "text": [
      "$0.2237\n"
     ]
    }
   ],
   "source": [
    "# API Cost PAYG @ nlpcloud.io\n",
    "gpu_api_calls = 182\n",
    "tokens_generated = 417\n",
    "print(f'${gpu_api_calls * 0.001 + 0.0001 * tokens_generated}')"
   ]
  }
 ],
 "metadata": {
  "kernelspec": {
   "display_name": "Python 3 (ipykernel)",
   "language": "python",
   "name": "python3"
  },
  "language_info": {
   "codemirror_mode": {
    "name": "ipython",
    "version": 3
   },
   "file_extension": ".py",
   "mimetype": "text/x-python",
   "name": "python",
   "nbconvert_exporter": "python",
   "pygments_lexer": "ipython3",
   "version": "3.9.7"
  }
 },
 "nbformat": 4,
 "nbformat_minor": 2
}
